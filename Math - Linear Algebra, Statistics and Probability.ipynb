{
 "cells": [
  {
   "cell_type": "markdown",
   "id": "9729f977",
   "metadata": {},
   "source": [
    "# Linear Algebra"
   ]
  },
  {
   "cell_type": "code",
   "execution_count": 1,
   "id": "286d7a65",
   "metadata": {},
   "outputs": [],
   "source": [
    "import numpy as np\n",
    "import pandas as pd\n",
    "from numpy import linalg as la"
   ]
  },
  {
   "cell_type": "code",
   "execution_count": 2,
   "id": "b5723d4a",
   "metadata": {},
   "outputs": [
    {
     "name": "stdout",
     "output_type": "stream",
     "text": [
      "[[ 6  1  1]\n",
      " [ 4 -2  5]\n",
      " [ 2  8  7]]\n"
     ]
    }
   ],
   "source": [
    "A=np.array([[6,1,1],[4,-2,5],[2,8,7]])\n",
    "print(A)"
   ]
  },
  {
   "cell_type": "code",
   "execution_count": 3,
   "id": "0dd963f6",
   "metadata": {},
   "outputs": [
    {
     "name": "stdout",
     "output_type": "stream",
     "text": [
      "[[ 6  4  2]\n",
      " [ 1 -2  8]\n",
      " [ 1  5  7]]\n"
     ]
    }
   ],
   "source": [
    "print(A.T)"
   ]
  },
  {
   "cell_type": "code",
   "execution_count": 4,
   "id": "ca41adb0",
   "metadata": {},
   "outputs": [
    {
     "name": "stdout",
     "output_type": "stream",
     "text": [
      "-306.0\n"
     ]
    }
   ],
   "source": [
    "print(la.det(A))"
   ]
  },
  {
   "cell_type": "code",
   "execution_count": 5,
   "id": "21fa2d4a",
   "metadata": {},
   "outputs": [
    {
     "name": "stdout",
     "output_type": "stream",
     "text": [
      "3\n"
     ]
    }
   ],
   "source": [
    "print(la.matrix_rank(A))"
   ]
  },
  {
   "cell_type": "code",
   "execution_count": 6,
   "id": "cbcfef3d",
   "metadata": {},
   "outputs": [
    {
     "name": "stdout",
     "output_type": "stream",
     "text": [
      "11\n"
     ]
    }
   ],
   "source": [
    "print(np.trace(A))"
   ]
  },
  {
   "cell_type": "code",
   "execution_count": 7,
   "id": "8ba94ae2",
   "metadata": {},
   "outputs": [
    {
     "name": "stdout",
     "output_type": "stream",
     "text": [
      "[[ 0.17647059 -0.00326797 -0.02287582]\n",
      " [ 0.05882353 -0.13071895  0.08496732]\n",
      " [-0.11764706  0.1503268   0.05228758]]\n"
     ]
    }
   ],
   "source": [
    "print(la.inv(A))"
   ]
  },
  {
   "cell_type": "code",
   "execution_count": 8,
   "id": "ac2ef031",
   "metadata": {},
   "outputs": [
    {
     "name": "stdout",
     "output_type": "stream",
     "text": [
      "[ 6 -2  7]\n"
     ]
    }
   ],
   "source": [
    "print(np.diag(A))"
   ]
  },
  {
   "cell_type": "markdown",
   "id": "ccd03ab7",
   "metadata": {},
   "source": [
    "Eigen Values"
   ]
  },
  {
   "cell_type": "code",
   "execution_count": 9,
   "id": "9dc41612",
   "metadata": {},
   "outputs": [
    {
     "name": "stdout",
     "output_type": "stream",
     "text": [
      "(array([11.24862343,  5.09285054, -5.34147398]), array([[ 0.24511338,  0.75669314,  0.02645665],\n",
      "       [ 0.40622202, -0.03352363, -0.84078293],\n",
      "       [ 0.88028581, -0.65291014,  0.54072554]]))\n"
     ]
    }
   ],
   "source": [
    "print(la.eig(A))"
   ]
  },
  {
   "cell_type": "code",
   "execution_count": 10,
   "id": "72273b8d",
   "metadata": {},
   "outputs": [
    {
     "name": "stdout",
     "output_type": "stream",
     "text": [
      "root: [11.24862343  5.09285054 -5.34147398]\n",
      "matrix: [[ 0.24511338  0.75669314  0.02645665]\n",
      " [ 0.40622202 -0.03352363 -0.84078293]\n",
      " [ 0.88028581 -0.65291014  0.54072554]]\n"
     ]
    }
   ],
   "source": [
    "x,y=la.eig(A)\n",
    "print('root:',x)\n",
    "print('matrix:',y)"
   ]
  },
  {
   "cell_type": "code",
   "execution_count": 11,
   "id": "f2761157",
   "metadata": {},
   "outputs": [
    {
     "name": "stdout",
     "output_type": "stream",
     "text": [
      "[11.24862343  5.09285054 -5.34147398]\n"
     ]
    }
   ],
   "source": [
    "print(la.eigvals(A))"
   ]
  },
  {
   "cell_type": "markdown",
   "id": "21a0c6c8",
   "metadata": {},
   "source": [
    "Power of the matrix"
   ]
  },
  {
   "cell_type": "code",
   "execution_count": 12,
   "id": "6a266067",
   "metadata": {},
   "outputs": [
    {
     "name": "stdout",
     "output_type": "stream",
     "text": [
      "[[  887932604  -406555492  1498523294]\n",
      " [  -21576258 -2127989762  1009217367]\n",
      " [ 1392400878  1076683470  -655538929]]\n"
     ]
    }
   ],
   "source": [
    "print(la.matrix_power(A,10))"
   ]
  },
  {
   "cell_type": "markdown",
   "id": "f072e2cd",
   "metadata": {},
   "source": [
    "# Statistics"
   ]
  },
  {
   "cell_type": "code",
   "execution_count": 13,
   "id": "7d6a113d",
   "metadata": {},
   "outputs": [
    {
     "data": {
      "text/html": [
       "<div>\n",
       "<style scoped>\n",
       "    .dataframe tbody tr th:only-of-type {\n",
       "        vertical-align: middle;\n",
       "    }\n",
       "\n",
       "    .dataframe tbody tr th {\n",
       "        vertical-align: top;\n",
       "    }\n",
       "\n",
       "    .dataframe thead th {\n",
       "        text-align: right;\n",
       "    }\n",
       "</style>\n",
       "<table border=\"1\" class=\"dataframe\">\n",
       "  <thead>\n",
       "    <tr style=\"text-align: right;\">\n",
       "      <th></th>\n",
       "      <th>Name</th>\n",
       "      <th>Age</th>\n",
       "      <th>Weight</th>\n",
       "    </tr>\n",
       "  </thead>\n",
       "  <tbody>\n",
       "    <tr>\n",
       "      <th>0</th>\n",
       "      <td>Realme</td>\n",
       "      <td>12</td>\n",
       "      <td>50</td>\n",
       "    </tr>\n",
       "    <tr>\n",
       "      <th>1</th>\n",
       "      <td>Readme</td>\n",
       "      <td>23</td>\n",
       "      <td>55</td>\n",
       "    </tr>\n",
       "    <tr>\n",
       "      <th>2</th>\n",
       "      <td>Iqoo</td>\n",
       "      <td>20</td>\n",
       "      <td>60</td>\n",
       "    </tr>\n",
       "    <tr>\n",
       "      <th>3</th>\n",
       "      <td>Poco</td>\n",
       "      <td>21</td>\n",
       "      <td>53</td>\n",
       "    </tr>\n",
       "  </tbody>\n",
       "</table>\n",
       "</div>"
      ],
      "text/plain": [
       "     Name  Age  Weight\n",
       "0  Realme   12      50\n",
       "1  Readme   23      55\n",
       "2    Iqoo   20      60\n",
       "3    Poco   21      53"
      ]
     },
     "execution_count": 13,
     "metadata": {},
     "output_type": "execute_result"
    }
   ],
   "source": [
    "data=pd.DataFrame({\n",
    "    'Name':pd.Series(['Realme','Readme','Iqoo','Poco']),\n",
    "    'Age':pd.Series([12,23,20,21]),\n",
    "    'Weight':pd.Series([50,55,60,53]),\n",
    "})\n",
    "data"
   ]
  },
  {
   "cell_type": "code",
   "execution_count": 14,
   "id": "b14d81a0",
   "metadata": {},
   "outputs": [
    {
     "name": "stdout",
     "output_type": "stream",
     "text": [
      "Name      RealmeReadmeIqooPoco\n",
      "Age                         76\n",
      "Weight                     218\n",
      "dtype: object\n"
     ]
    }
   ],
   "source": [
    "print(data.sum())"
   ]
  },
  {
   "cell_type": "code",
   "execution_count": 15,
   "id": "62c0bfcb",
   "metadata": {},
   "outputs": [
    {
     "data": {
      "text/html": [
       "<div>\n",
       "<style scoped>\n",
       "    .dataframe tbody tr th:only-of-type {\n",
       "        vertical-align: middle;\n",
       "    }\n",
       "\n",
       "    .dataframe tbody tr th {\n",
       "        vertical-align: top;\n",
       "    }\n",
       "\n",
       "    .dataframe thead th {\n",
       "        text-align: right;\n",
       "    }\n",
       "</style>\n",
       "<table border=\"1\" class=\"dataframe\">\n",
       "  <thead>\n",
       "    <tr style=\"text-align: right;\">\n",
       "      <th></th>\n",
       "      <th>Age</th>\n",
       "      <th>Weight</th>\n",
       "    </tr>\n",
       "  </thead>\n",
       "  <tbody>\n",
       "    <tr>\n",
       "      <th>0</th>\n",
       "      <td>12</td>\n",
       "      <td>50</td>\n",
       "    </tr>\n",
       "    <tr>\n",
       "      <th>1</th>\n",
       "      <td>23</td>\n",
       "      <td>55</td>\n",
       "    </tr>\n",
       "    <tr>\n",
       "      <th>2</th>\n",
       "      <td>20</td>\n",
       "      <td>60</td>\n",
       "    </tr>\n",
       "    <tr>\n",
       "      <th>3</th>\n",
       "      <td>21</td>\n",
       "      <td>53</td>\n",
       "    </tr>\n",
       "  </tbody>\n",
       "</table>\n",
       "</div>"
      ],
      "text/plain": [
       "   Age  Weight\n",
       "0   12      50\n",
       "1   23      55\n",
       "2   20      60\n",
       "3   21      53"
      ]
     },
     "execution_count": 15,
     "metadata": {},
     "output_type": "execute_result"
    }
   ],
   "source": [
    "d=data[['Age','Weight']]\n",
    "d"
   ]
  },
  {
   "cell_type": "code",
   "execution_count": 16,
   "id": "72bc1c91",
   "metadata": {},
   "outputs": [
    {
     "name": "stdout",
     "output_type": "stream",
     "text": [
      "Age       19.0\n",
      "Weight    54.5\n",
      "dtype: float64\n"
     ]
    }
   ],
   "source": [
    "print(d.mean())"
   ]
  },
  {
   "cell_type": "code",
   "execution_count": 17,
   "id": "6fd52252",
   "metadata": {},
   "outputs": [
    {
     "name": "stdout",
     "output_type": "stream",
     "text": [
      "Age       20.5\n",
      "Weight    54.0\n",
      "dtype: float64\n"
     ]
    }
   ],
   "source": [
    "print(d.median())"
   ]
  },
  {
   "cell_type": "code",
   "execution_count": 18,
   "id": "4b755909",
   "metadata": {},
   "outputs": [
    {
     "name": "stdout",
     "output_type": "stream",
     "text": [
      "   Age  Weight\n",
      "0   12      50\n",
      "1   20      53\n",
      "2   21      55\n",
      "3   23      60\n"
     ]
    }
   ],
   "source": [
    "print(d.mode())"
   ]
  },
  {
   "cell_type": "code",
   "execution_count": 19,
   "id": "b8ecf490",
   "metadata": {},
   "outputs": [
    {
     "name": "stdout",
     "output_type": "stream",
     "text": [
      "Age       4.830459\n",
      "Weight    4.203173\n",
      "dtype: float64\n"
     ]
    }
   ],
   "source": [
    "print(d.std())"
   ]
  },
  {
   "cell_type": "code",
   "execution_count": 20,
   "id": "66e0f025",
   "metadata": {},
   "outputs": [
    {
     "name": "stdout",
     "output_type": "stream",
     "text": [
      "Age       23.333333\n",
      "Weight    17.666667\n",
      "dtype: float64\n"
     ]
    }
   ],
   "source": [
    "print(d.var())"
   ]
  },
  {
   "cell_type": "code",
   "execution_count": 21,
   "id": "2a89792e",
   "metadata": {},
   "outputs": [
    {
     "name": "stdout",
     "output_type": "stream",
     "text": [
      "Age       12\n",
      "Weight    50\n",
      "dtype: int64\n"
     ]
    }
   ],
   "source": [
    "print(d.min())"
   ]
  },
  {
   "cell_type": "code",
   "execution_count": 22,
   "id": "39994507",
   "metadata": {},
   "outputs": [
    {
     "name": "stdout",
     "output_type": "stream",
     "text": [
      "Age       23\n",
      "Weight    60\n",
      "dtype: int64\n"
     ]
    }
   ],
   "source": [
    "print(d.max())"
   ]
  },
  {
   "cell_type": "code",
   "execution_count": 23,
   "id": "5e923a39",
   "metadata": {},
   "outputs": [
    {
     "name": "stdout",
     "output_type": "stream",
     "text": [
      "   Age  Weight\n",
      "0   12      50\n",
      "1   35     105\n",
      "2   55     165\n",
      "3   76     218\n"
     ]
    }
   ],
   "source": [
    "print(d.cumsum())"
   ]
  },
  {
   "cell_type": "code",
   "execution_count": 24,
   "id": "4e040867",
   "metadata": {},
   "outputs": [
    {
     "name": "stdout",
     "output_type": "stream",
     "text": [
      "             Age     Weight\n",
      "count   4.000000   4.000000\n",
      "mean   19.000000  54.500000\n",
      "std     4.830459   4.203173\n",
      "min    12.000000  50.000000\n",
      "25%    18.000000  52.250000\n",
      "50%    20.500000  54.000000\n",
      "75%    21.500000  56.250000\n",
      "max    23.000000  60.000000\n"
     ]
    }
   ],
   "source": [
    "print(d.describe())"
   ]
  },
  {
   "cell_type": "code",
   "execution_count": 25,
   "id": "483e7fb7",
   "metadata": {},
   "outputs": [],
   "source": [
    "from numpy import mean,std\n",
    "from numpy.random import randn,seed\n",
    "from matplotlib import pyplot as pp"
   ]
  },
  {
   "cell_type": "code",
   "execution_count": 26,
   "id": "4b029cec",
   "metadata": {},
   "outputs": [
    {
     "data": {
      "text/plain": [
       "array([142.81502913, 163.83420935, 171.62256056, 148.90678579,\n",
       "       133.83626644, 148.18246406, 145.25365651, 174.1470406 ,\n",
       "       155.75288752, 183.46475997, 152.17123461, 178.69051708,\n",
       "       158.25931164, 134.98123584, 149.20231767, 165.53688752,\n",
       "       142.66977603, 150.25061097, 160.62573371, 160.95232342,\n",
       "       134.22408921, 145.80723234, 117.33096073,  99.97653677,\n",
       "       143.92173668, 207.41809554, 196.65744891, 208.91919426,\n",
       "       156.76856433, 146.44145587, 187.04328485, 137.89469468,\n",
       "        78.9666716 , 141.01080256, 174.6994906 , 176.54889953,\n",
       "       180.76693695, 174.83406602, 159.37581506, 131.16462529,\n",
       "       150.37703664, 128.57884469, 138.39038794, 206.51094973,\n",
       "       163.40529018, 151.95489391, 133.26903359, 191.64359922,\n",
       "       115.13813769, 117.18895078])"
      ]
     },
     "execution_count": 26,
     "metadata": {},
     "output_type": "execute_result"
    }
   ],
   "source": [
    "seed(21)\n",
    "d1=10*randn(50)+100\n",
    "d2=d1+(20*randn(50)+50)\n",
    "d1\n",
    "d2"
   ]
  },
  {
   "cell_type": "code",
   "execution_count": 27,
   "id": "9903827c",
   "metadata": {},
   "outputs": [
    {
     "name": "stdout",
     "output_type": "stream",
     "text": [
      "99.82915173529105 9.53339014480697\n",
      "154.34766669105917 26.290634398137684\n"
     ]
    }
   ],
   "source": [
    "print(mean(d1),std(d1))\n",
    "print(mean(d2),std(d2))"
   ]
  },
  {
   "cell_type": "code",
   "execution_count": 28,
   "id": "671534bb",
   "metadata": {},
   "outputs": [
    {
     "data": {
      "image/png": "[encoded data removed]",
      "text/plain": [
       "<Figure size 432x288 with 1 Axes>"
      ]
     },
     "metadata": {
      "needs_background": "light"
     },
     "output_type": "display_data"
    }
   ],
   "source": [
    "pp.scatter(d1,d2)\n",
    "pp.show()"
   ]
  },
  {
   "cell_type": "code",
   "execution_count": 29,
   "id": "f1ed1e8d",
   "metadata": {},
   "outputs": [],
   "source": [
    "from numpy import cov"
   ]
  },
  {
   "cell_type": "code",
   "execution_count": 30,
   "id": "f21a2c04",
   "metadata": {},
   "outputs": [
    {
     "name": "stdout",
     "output_type": "stream",
     "text": [
      "[[ 92.74033434 126.59545157]\n",
      " [126.59545157 705.30352761]]\n"
     ]
    }
   ],
   "source": [
    "print(cov(d1,d2))"
   ]
  },
  {
   "cell_type": "code",
   "execution_count": 31,
   "id": "86bb04b2",
   "metadata": {},
   "outputs": [
    {
     "name": "stdout",
     "output_type": "stream",
     "text": [
      "(0.49498922544959245, 0.0002578429567261139)\n"
     ]
    }
   ],
   "source": [
    "from scipy.stats import pearsonr\n",
    "print(pearsonr(d1,d2))"
   ]
  },
  {
   "cell_type": "code",
   "execution_count": 32,
   "id": "62056ffa",
   "metadata": {},
   "outputs": [
    {
     "name": "stdout",
     "output_type": "stream",
     "text": [
      "SpearmanrResult(correlation=0.4486434573829532, pvalue=0.001084095855253755)\n"
     ]
    }
   ],
   "source": [
    "from scipy.stats import spearmanr\n",
    "print(spearmanr(d1,d2))"
   ]
  },
  {
   "cell_type": "markdown",
   "id": "21bc73ce",
   "metadata": {},
   "source": [
    "# Probability"
   ]
  },
  {
   "cell_type": "code",
   "execution_count": 33,
   "id": "293df33a",
   "metadata": {},
   "outputs": [],
   "source": [
    "from scipy.stats import binom\n",
    "import matplotlib.pyplot as plt"
   ]
  },
  {
   "cell_type": "markdown",
   "id": "f634285e",
   "metadata": {},
   "source": [
    "Binomial:"
   ]
  },
  {
   "cell_type": "code",
   "execution_count": 34,
   "id": "b1a7924d",
   "metadata": {},
   "outputs": [
    {
     "data": {
      "image/png": "[encoded data removed]",
      "text/plain": [
       "<Figure size 432x288 with 1 Axes>"
      ]
     },
     "metadata": {
      "needs_background": "light"
     },
     "output_type": "display_data"
    }
   ],
   "source": [
    "n=5\n",
    "p=0.4\n",
    "r_v=list(range(n+1))\n",
    "dis=[binom.pmf(r,n,p) for r in r_v]\n",
    "plt.bar(r_v,dis)\n",
    "plt.show()"
   ]
  },
  {
   "cell_type": "markdown",
   "id": "d616706d",
   "metadata": {},
   "source": [
    "Bernoulli:"
   ]
  },
  {
   "cell_type": "code",
   "execution_count": 35,
   "id": "10ada40e",
   "metadata": {},
   "outputs": [
    {
     "data": {
      "image/png": "[encoded data removed]",
      "text/plain": [
       "<Figure size 432x288 with 1 Axes>"
      ]
     },
     "metadata": {
      "needs_background": "light"
     },
     "output_type": "display_data"
    }
   ],
   "source": [
    "from scipy.stats import bernoulli\n",
    "bd=bernoulli(0.2)\n",
    "x=[0,1]\n",
    "plt.bar(x,bd.pmf(x))\n",
    "plt.show()"
   ]
  },
  {
   "cell_type": "markdown",
   "id": "a93d2862",
   "metadata": {},
   "source": [
    "Poisson:"
   ]
  },
  {
   "cell_type": "code",
   "execution_count": 46,
   "id": "4c292607",
   "metadata": {},
   "outputs": [
    {
     "data": {
      "image/png": "[encoded data removed]",
      "text/plain": [
       "<Figure size 360x360 with 1 Axes>"
      ]
     },
     "metadata": {
      "needs_background": "light"
     },
     "output_type": "display_data"
    }
   ],
   "source": [
    "from numpy import random\n",
    "import seaborn as sns\n",
    "sns.displot(random.poisson(lam=5,size=100))\n",
    "plt.show()"
   ]
  },
  {
   "cell_type": "markdown",
   "id": "fae22687",
   "metadata": {},
   "source": [
    "Exponential:"
   ]
  },
  {
   "cell_type": "code",
   "execution_count": 47,
   "id": "69d8ffb8",
   "metadata": {},
   "outputs": [
    {
     "data": {
      "image/png": "[encoded data removed]",
      "text/plain": [
       "<Figure size 432x288 with 1 Axes>"
      ]
     },
     "metadata": {
      "needs_background": "light"
     },
     "output_type": "display_data"
    }
   ],
   "source": [
    "exp=np.random.exponential(1,100)\n",
    "count,bins,ignored=plt.hist(exp,5)\n",
    "\n",
    "plt.show()"
   ]
  },
  {
   "cell_type": "markdown",
   "id": "2e2e5ff3",
   "metadata": {},
   "source": [
    "Normal:"
   ]
  },
  {
   "cell_type": "code",
   "execution_count": 48,
   "id": "614df5e9",
   "metadata": {},
   "outputs": [
    {
     "data": {
      "image/png": "[encoded data removed]",
      "text/plain": [
       "<Figure size 432x288 with 1 Axes>"
      ]
     },
     "metadata": {
      "needs_background": "light"
     },
     "output_type": "display_data"
    }
   ],
   "source": [
    "mu,sigma=0.5,0.1\n",
    "s=np.random.normal(mu,sigma,1000)\n",
    "count,bins,ignored=plt.hist(s,100)\n",
    "plt.plot(bins,1/sigma*np.sqrt(2*np.pi)*np.exp(-(bins-mu)**2/(2*sigma**2)))\n",
    "plt.show()"
   ]
  },
  {
   "cell_type": "code",
   "execution_count": null,
   "id": "891c35d4",
   "metadata": {},
   "outputs": [],
   "source": []
  }
 ],
 "metadata": {
  "kernelspec": {
   "display_name": "Python 3",
   "language": "python",
   "name": "python3"
  },
  "language_info": {
   "codemirror_mode": {
    "name": "ipython",
    "version": 3
   },
   "file_extension": ".py",
   "mimetype": "text/x-python",
   "name": "python",
   "nbconvert_exporter": "python",
   "pygments_lexer": "ipython3",
   "version": "3.8.8"
  }
 },
 "nbformat": 4,
 "nbformat_minor": 5
}
